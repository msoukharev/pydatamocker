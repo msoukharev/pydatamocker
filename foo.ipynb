{
 "cells": [
  {
   "cell_type": "code",
   "execution_count": 3,
   "source": [
    "d = {\n",
    "    'a': list(),\n",
    "}\n",
    "\n",
    "b = d.get('b')\n",
    "d['b'] = ['a', 'b']\n",
    "b"
   ],
   "outputs": [],
   "metadata": {}
  },
  {
   "cell_type": "code",
   "execution_count": 5,
   "source": [
    "import pandas as pd\n",
    "\n",
    "a = pd.DataFrame({'a': [1,2,3,4], 'b': [1,2,3,4]})\n",
    "len(a)"
   ],
   "outputs": [
    {
     "output_type": "execute_result",
     "data": {
      "text/plain": [
       "4"
      ]
     },
     "metadata": {},
     "execution_count": 5
    }
   ],
   "metadata": {}
  }
 ],
 "metadata": {
  "orig_nbformat": 4,
  "language_info": {
   "name": "python",
   "version": "3.9.5",
   "mimetype": "text/x-python",
   "codemirror_mode": {
    "name": "ipython",
    "version": 3
   },
   "pygments_lexer": "ipython3",
   "nbconvert_exporter": "python",
   "file_extension": ".py"
  },
  "kernelspec": {
   "name": "python3",
   "display_name": "Python 3.9.5 64-bit ('env': venv)"
  },
  "interpreter": {
   "hash": "51ce3facb238664175e108da5a3ecb1a5d59fb979ccb8436b281152d503137dc"
  }
 },
 "nbformat": 4,
 "nbformat_minor": 2
}