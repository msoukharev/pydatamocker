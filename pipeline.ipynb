{
 "cells": [
  {
   "cell_type": "code",
   "execution_count": 57,
   "source": [
    "import numpy as np\n",
    "import pandas as pd"
   ],
   "outputs": [],
   "metadata": {}
  },
  {
   "cell_type": "code",
   "execution_count": 77,
   "source": [
    "a1 = lambda **kw: print(kw['word'])\n",
    "a2 = lambda a: lambda **kw: a(**kw) if kw['print'] else print('Idi nahui bydlo')\n",
    "a3 = lambda a: lambda **kw: a(**kw) if kw.get('say_hi') else print('Bye')\n",
    "a3(a2(a1))(word='Privet', print=False, say_hi=True)\n",
    "\n",
    "\n",
    "def pipeline(apply: bool = True, *funcs, **kwargs):\n",
    "    f = funcs[0]\n",
    "    for func in funcs[1:]:\n",
    "        f = func(f)\n",
    "    return f(**kwargs) if apply else f"
   ],
   "outputs": [
    {
     "output_type": "stream",
     "name": "stdout",
     "text": [
      "Idi nahui bydlo\n"
     ]
    }
   ],
   "metadata": {}
  },
  {
   "cell_type": "code",
   "execution_count": 82,
   "source": [
    "pipeline(False,\n",
    "    lambda **kw: np.arange(kw['size']),\n",
    "    lambda f: lambda **kw: np.random.permutation(f(**kw)),\n",
    "    lambda f: lambda **kw: print(f(**kw)),\n",
    "    size=10\n",
    ")"
   ],
   "outputs": [
    {
     "output_type": "execute_result",
     "data": {
      "text/plain": [
       "<function __main__.<lambda>.<locals>.<lambda>(**kw)>"
      ]
     },
     "metadata": {},
     "execution_count": 82
    }
   ],
   "metadata": {}
  },
  {
   "cell_type": "code",
   "execution_count": 87,
   "source": [
    "{'a': 10, 'b': 30} | {'b': 11}"
   ],
   "outputs": [
    {
     "output_type": "execute_result",
     "data": {
      "text/plain": [
       "{'a': 10, 'b': 11}"
      ]
     },
     "metadata": {},
     "execution_count": 87
    }
   ],
   "metadata": {}
  }
 ],
 "metadata": {
  "orig_nbformat": 4,
  "language_info": {
   "name": "python",
   "version": "3.9.5",
   "mimetype": "text/x-python",
   "codemirror_mode": {
    "name": "ipython",
    "version": 3
   },
   "pygments_lexer": "ipython3",
   "nbconvert_exporter": "python",
   "file_extension": ".py"
  },
  "kernelspec": {
   "name": "python3",
   "display_name": "Python 3.9.5 64-bit ('env': venv)"
  },
  "interpreter": {
   "hash": "51ce3facb238664175e108da5a3ecb1a5d59fb979ccb8436b281152d503137dc"
  }
 },
 "nbformat": 4,
 "nbformat_minor": 2
}