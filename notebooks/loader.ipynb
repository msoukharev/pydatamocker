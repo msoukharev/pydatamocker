{
 "cells": [
  {
   "cell_type": "code",
   "execution_count": 4,
   "metadata": {},
   "outputs": [],
   "source": [
    "import pandas as pd\n",
    "import numpy as np"
   ]
  },
  {
   "cell_type": "markdown",
   "metadata": {},
   "source": [
    "# Loadable sample"
   ]
  },
  {
   "cell_type": "markdown",
   "metadata": {},
   "source": [
    "Create a function that will load the dataframe"
   ]
  },
  {
   "cell_type": "code",
   "execution_count": 5,
   "metadata": {},
   "outputs": [
    {
     "name": "stdout",
     "output_type": "stream",
     "text": [
      "<class 'pandas.core.series.Series'>\n"
     ]
    },
    {
     "data": {
      "text/plain": [
       "0            Michael\n",
       "1        Christopher\n",
       "2            Jessica\n",
       "3            Matthew\n",
       "4             Ashley\n",
       "            ...     \n",
       "18234        Abayomi\n",
       "18235         Aarthi\n",
       "18236          Aarik\n",
       "18237          Aamil\n",
       "18238        Aamanda\n",
       "Length: 18239, dtype: object"
      ]
     },
     "execution_count": 5,
     "metadata": {},
     "output_type": "execute_result"
    }
   ],
   "source": [
    "df_generator = lambda name : pd.read_pickle('../data/' + name + '.pkl')\n",
    "\n",
    "\n",
    "df = df_generator('first_name')\n",
    "print(type(df))\n",
    "df"
   ]
  },
  {
   "cell_type": "markdown",
   "metadata": {},
   "source": [
    "Create a function accepting the data loading function and returning a sampling function"
   ]
  },
  {
   "cell_type": "code",
   "execution_count": 6,
   "metadata": {},
   "outputs": [],
   "source": [
    "df_sampler = lambda name, size: df_generator(name).sample(n=size)"
   ]
  },
  {
   "cell_type": "code",
   "execution_count": 7,
   "metadata": {},
   "outputs": [
    {
     "data": {
      "text/plain": [
       "3216      Eriberto\n",
       "3567        Justyn\n",
       "13176     Jarrette\n",
       "538         Harold\n",
       "6816     Marisella\n",
       "4376       Branson\n",
       "5468        Coreen\n",
       "7123        Lathan\n",
       "805           Lara\n",
       "5464      Crystina\n",
       "dtype: object"
      ]
     },
     "execution_count": 7,
     "metadata": {},
     "output_type": "execute_result"
    }
   ],
   "source": [
    "df_sampler('first_name', 10)"
   ]
  },
  {
   "cell_type": "markdown",
   "metadata": {},
   "source": [
    "# Random generator sample"
   ]
  },
  {
   "cell_type": "markdown",
   "metadata": {},
   "source": [
    "Define sample creating functions"
   ]
  },
  {
   "cell_type": "markdown",
   "metadata": {},
   "source": [
    "## Lambda definition"
   ]
  },
  {
   "cell_type": "code",
   "execution_count": 8,
   "metadata": {},
   "outputs": [],
   "source": [
    "sample_generating_function_dict = {\n",
    "    'normal' : lambda size, mean, std: np.random.normal(size=size, loc=mean, scale=std),\n",
    "    'exponential': lambda size, param: np.random.exponential(size=size, scale=param)\n",
    "}\n"
   ]
  },
  {
   "cell_type": "markdown",
   "metadata": {},
   "source": [
    "We have to use *args here"
   ]
  },
  {
   "cell_type": "code",
   "execution_count": 9,
   "metadata": {},
   "outputs": [
    {
     "data": {
      "text/plain": [
       "0    -9.101571\n",
       "1   -11.454295\n",
       "2    -3.690319\n",
       "3   -13.658934\n",
       "4    11.132945\n",
       "dtype: float64"
      ]
     },
     "execution_count": 9,
     "metadata": {},
     "output_type": "execute_result"
    }
   ],
   "source": [
    "random_df_generator = lambda distr, *params: pd.Series(sample_generating_function_dict[distr](*params))\n",
    "random_df_generator('normal', 5, 1, 20)"
   ]
  },
  {
   "cell_type": "markdown",
   "metadata": {},
   "source": [
    "## Kwargs to args"
   ]
  },
  {
   "cell_type": "code",
   "execution_count": 10,
   "metadata": {},
   "outputs": [],
   "source": [
    "distribution_kwargs_to_args_dict = {\n",
    "    'normal': lambda size, **params: random_df_generator('normal', size, params['mean'], params['std']),\n",
    "    'exponential': lambda size, **params: random_df_generator('exponential', size, params['param'])\n",
    "}\n"
   ]
  },
  {
   "cell_type": "code",
   "execution_count": 11,
   "metadata": {},
   "outputs": [
    {
     "data": {
      "text/plain": [
       "20    4.140247\n",
       "21    3.979039\n",
       "22    5.450820\n",
       "23    5.073577\n",
       "24    6.871342\n",
       "25    5.604349\n",
       "26    5.184473\n",
       "27    5.364584\n",
       "28    4.096860\n",
       "29    5.425543\n",
       "dtype: float64"
      ]
     },
     "execution_count": 11,
     "metadata": {},
     "output_type": "execute_result"
    }
   ],
   "source": [
    "random_df_generator_2 = lambda distr, size, **kwargs: distribution_kwargs_to_args_dict[distr](size, **kwargs)\n",
    "\n",
    "random_df_generator_2('normal', std=1, mean=5, size=30)[20:]"
   ]
  }
 ],
 "metadata": {
  "interpreter": {
   "hash": "51ce3facb238664175e108da5a3ecb1a5d59fb979ccb8436b281152d503137dc"
  },
  "kernelspec": {
   "display_name": "Python 3.9.5 64-bit ('env': venv)",
   "name": "python3"
  },
  "language_info": {
   "codemirror_mode": {
    "name": "ipython",
    "version": 3
   },
   "file_extension": ".py",
   "mimetype": "text/x-python",
   "name": "python",
   "nbconvert_exporter": "python",
   "pygments_lexer": "ipython3",
   "version": "3.9.5"
  },
  "orig_nbformat": 4
 },
 "nbformat": 4,
 "nbformat_minor": 2
}