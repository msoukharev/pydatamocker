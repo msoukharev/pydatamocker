{
 "cells": [
  {
   "cell_type": "code",
   "execution_count": 2,
   "metadata": {},
   "outputs": [],
   "source": [
    "import pandas as pd\n",
    "import os.path as osp"
   ]
  },
  {
   "cell_type": "code",
   "execution_count": 9,
   "metadata": {},
   "outputs": [],
   "source": [
    "with open(osp.join(osp.pardir, 'data', 'last_name.txt'), 'rt') as f:\n",
    "    sr = pd.Series(s.strip('\\n') for s in f.readlines())\n",
    "sr\n",
    "\n",
    "sr.to_pickle('../data/last_name.pkl')"
   ]
  }
 ],
 "metadata": {
  "interpreter": {
   "hash": "51ce3facb238664175e108da5a3ecb1a5d59fb979ccb8436b281152d503137dc"
  },
  "kernelspec": {
   "display_name": "Python 3.9.5 64-bit ('env': venv)",
   "name": "python3"
  },
  "language_info": {
   "codemirror_mode": {
    "name": "ipython",
    "version": 3
   },
   "file_extension": ".py",
   "mimetype": "text/x-python",
   "name": "python",
   "nbconvert_exporter": "python",
   "pygments_lexer": "ipython3",
   "version": "3.9.5"
  },
  "orig_nbformat": 4
 },
 "nbformat": 4,
 "nbformat_minor": 2
}