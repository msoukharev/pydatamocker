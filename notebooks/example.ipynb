{
 "cells": [
  {
   "cell_type": "code",
   "execution_count": 1,
   "metadata": {},
   "outputs": [],
   "source": [
    "from pydatamocker import *"
   ]
  },
  {
   "cell_type": "markdown",
   "metadata": {},
   "source": [
    "# Data generation"
   ]
  },
  {
   "cell_type": "code",
   "execution_count": 2,
   "metadata": {},
   "outputs": [
    {
     "data": {
      "text/html": [
       "<div>\n",
       "<style scoped>\n",
       "    .dataframe tbody tr th:only-of-type {\n",
       "        vertical-align: middle;\n",
       "    }\n",
       "\n",
       "    .dataframe tbody tr th {\n",
       "        vertical-align: top;\n",
       "    }\n",
       "\n",
       "    .dataframe thead th {\n",
       "        text-align: right;\n",
       "    }\n",
       "</style>\n",
       "<table border=\"1\" class=\"dataframe\">\n",
       "  <thead>\n",
       "    <tr style=\"text-align: right;\">\n",
       "      <th></th>\n",
       "      <th>LastName</th>\n",
       "      <th>FirstName</th>\n",
       "      <th>Status</th>\n",
       "      <th>YOE</th>\n",
       "      <th>Category</th>\n",
       "    </tr>\n",
       "  </thead>\n",
       "  <tbody>\n",
       "    <tr>\n",
       "      <th>0</th>\n",
       "      <td>Choe</td>\n",
       "      <td>Kaori</td>\n",
       "      <td>bad</td>\n",
       "      <td>6.018320</td>\n",
       "      <td>3</td>\n",
       "    </tr>\n",
       "    <tr>\n",
       "      <th>1</th>\n",
       "      <td>Camarillo</td>\n",
       "      <td>Asusena</td>\n",
       "      <td>alright</td>\n",
       "      <td>4.516209</td>\n",
       "      <td>1</td>\n",
       "    </tr>\n",
       "    <tr>\n",
       "      <th>2</th>\n",
       "      <td>Unrein</td>\n",
       "      <td>Melonee</td>\n",
       "      <td>good</td>\n",
       "      <td>8.920456</td>\n",
       "      <td>2</td>\n",
       "    </tr>\n",
       "    <tr>\n",
       "      <th>3</th>\n",
       "      <td>Vereen</td>\n",
       "      <td>Marysol</td>\n",
       "      <td>good</td>\n",
       "      <td>3.190305</td>\n",
       "      <td>1</td>\n",
       "    </tr>\n",
       "    <tr>\n",
       "      <th>4</th>\n",
       "      <td>Soares</td>\n",
       "      <td>Seairra</td>\n",
       "      <td>bad</td>\n",
       "      <td>8.262695</td>\n",
       "      <td>4</td>\n",
       "    </tr>\n",
       "    <tr>\n",
       "      <th>...</th>\n",
       "      <td>...</td>\n",
       "      <td>...</td>\n",
       "      <td>...</td>\n",
       "      <td>...</td>\n",
       "      <td>...</td>\n",
       "    </tr>\n",
       "    <tr>\n",
       "      <th>999995</th>\n",
       "      <td>Barry</td>\n",
       "      <td>Sharai</td>\n",
       "      <td>good</td>\n",
       "      <td>3.376847</td>\n",
       "      <td>4</td>\n",
       "    </tr>\n",
       "    <tr>\n",
       "      <th>999996</th>\n",
       "      <td>Crochet</td>\n",
       "      <td>Joshuah</td>\n",
       "      <td>good</td>\n",
       "      <td>4.073117</td>\n",
       "      <td>5</td>\n",
       "    </tr>\n",
       "    <tr>\n",
       "      <th>999997</th>\n",
       "      <td>Epp</td>\n",
       "      <td>Breda</td>\n",
       "      <td>alright</td>\n",
       "      <td>7.177966</td>\n",
       "      <td>2</td>\n",
       "    </tr>\n",
       "    <tr>\n",
       "      <th>999998</th>\n",
       "      <td>Furey</td>\n",
       "      <td>Lislie</td>\n",
       "      <td>alright</td>\n",
       "      <td>4.229130</td>\n",
       "      <td>1</td>\n",
       "    </tr>\n",
       "    <tr>\n",
       "      <th>999999</th>\n",
       "      <td>Salcedo</td>\n",
       "      <td>Johnnell</td>\n",
       "      <td>alright</td>\n",
       "      <td>8.180102</td>\n",
       "      <td>3</td>\n",
       "    </tr>\n",
       "  </tbody>\n",
       "</table>\n",
       "<p>1000000 rows × 5 columns</p>\n",
       "</div>"
      ],
      "text/plain": [
       "         LastName FirstName   Status       YOE  Category\n",
       "0            Choe     Kaori      bad  6.018320         3\n",
       "1       Camarillo   Asusena  alright  4.516209         1\n",
       "2          Unrein   Melonee     good  8.920456         2\n",
       "3          Vereen   Marysol     good  3.190305         1\n",
       "4          Soares   Seairra      bad  8.262695         4\n",
       "...           ...       ...      ...       ...       ...\n",
       "999995      Barry    Sharai     good  3.376847         4\n",
       "999996    Crochet   Joshuah     good  4.073117         5\n",
       "999997        Epp     Breda  alright  7.177966         2\n",
       "999998      Furey    Lislie  alright  4.229130         1\n",
       "999999    Salcedo  Johnnell  alright  8.180102         3\n",
       "\n",
       "[1000000 rows x 5 columns]"
      ]
     },
     "execution_count": 2,
     "metadata": {},
     "output_type": "execute_result"
    }
   ],
   "source": [
    "mg = MockGenerator()\n",
    "mg.add_field('FirstName', 'first_name')\n",
    "mg.add_field('LastName', 'last_name')\n",
    "\n",
    "mg.add_field('YOE', 'float', distr='uniform', min=3, max=9)\n",
    "mg.add_field('Status', 'enum', values=['good', 'bad', 'alright', 'horrible'], weights=[5, 2, 3, 1])\n",
    "mg.add_field('Category', 'integer', distr='binomial', n=10, p=0.3)\n",
    "\n",
    "mg.set_column_order(['LastName', 'FirstName', 'FirstName', 'Status', 'YOE'])\n",
    "\n",
    "mg.sample(1000_000)\n",
    "mg.get_dataframe()[:]"
   ]
  },
  {
   "cell_type": "markdown",
   "metadata": {},
   "source": [
    "## Data dumping"
   ]
  },
  {
   "cell_type": "code",
   "execution_count": 3,
   "metadata": {},
   "outputs": [],
   "source": [
    "mg.dump('my_data.csv')"
   ]
  }
 ],
 "metadata": {
  "interpreter": {
   "hash": "51ce3facb238664175e108da5a3ecb1a5d59fb979ccb8436b281152d503137dc"
  },
  "kernelspec": {
   "display_name": "Python 3.9.5 64-bit ('env': venv)",
   "name": "python3"
  },
  "language_info": {
   "codemirror_mode": {
    "name": "ipython",
    "version": 3
   },
   "file_extension": ".py",
   "mimetype": "text/x-python",
   "name": "python",
   "nbconvert_exporter": "python",
   "pygments_lexer": "ipython3",
   "version": "3.9.5"
  },
  "orig_nbformat": 4
 },
 "nbformat": 4,
 "nbformat_minor": 2
}